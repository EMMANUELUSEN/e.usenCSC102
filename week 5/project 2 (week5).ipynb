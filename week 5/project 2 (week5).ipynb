{
 "cells": [
  {
   "cell_type": "code",
   "execution_count": 3,
   "id": "8269934a",
   "metadata": {},
   "outputs": [
    {
     "name": "stdout",
     "output_type": "stream",
     "text": [
      "Enter years of experience: 10\n",
      "Enter age: 34\n",
      "Annual Tax Revenue: N550000\n",
      "Do you want to calculate again? (yes/no): yes\n",
      "Enter years of experience: 60\n",
      "Enter age: 54\n",
      "Annual Tax Revenue: N4480000\n",
      "Do you want to calculate again? (yes/no): no\n"
     ]
    }
   ],
   "source": [
    "while True:\n",
    "    # Take input for years of experience and age\n",
    "    years_of_experience = int(input(\"Enter years of experience: \"))\n",
    "    age = int(input(\"Enter age: \"))\n",
    "\n",
    "    # Calculate the annual tax revenue based on the given conditions\n",
    "    if years_of_experience > 25 and age >= 55:\n",
    "        atr = 5600000\n",
    "    elif years_of_experience > 20 and age >= 45:\n",
    "        atr = 4480000\n",
    "    elif years_of_experience > 10 and age >= 35:\n",
    "        atr = 1500000\n",
    "    else:\n",
    "        atr = 550000\n",
    "\n",
    "    # Print the annual tax revenue\n",
    "    print(\"Annual Tax Revenue: N{}\".format(atr))\n",
    "\n",
    "    # Ask if the user wants to continue or exit the program\n",
    "    choice = input(\"Do you want to calculate again? (yes/no): \")\n",
    "    if choice.lower() != \"yes\":\n",
    "        break"
   ]
  },
  {
   "cell_type": "code",
   "execution_count": null,
   "id": "d4f2dbff",
   "metadata": {},
   "outputs": [],
   "source": []
  }
 ],
 "metadata": {
  "kernelspec": {
   "display_name": "Python 3 (ipykernel)",
   "language": "python",
   "name": "python3"
  },
  "language_info": {
   "codemirror_mode": {
    "name": "ipython",
    "version": 3
   },
   "file_extension": ".py",
   "mimetype": "text/x-python",
   "name": "python",
   "nbconvert_exporter": "python",
   "pygments_lexer": "ipython3",
   "version": "3.10.9"
  }
 },
 "nbformat": 4,
 "nbformat_minor": 5
}
