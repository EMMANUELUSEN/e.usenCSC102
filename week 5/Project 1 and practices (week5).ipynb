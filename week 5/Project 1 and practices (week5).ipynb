{
 "cells": [
  {
   "cell_type": "code",
   "execution_count": 10,
   "id": "0dab4866",
   "metadata": {},
   "outputs": [
    {
     "name": "stdout",
     "output_type": "stream",
     "text": [
      "Name       Age  Height  scores  \n",
      "Samantha   17  5.5  80  \n",
      "Jada       16  6.0  85  \n",
      "Jane       17  5.4  70  \n",
      "Claire     18  5.9  60  \n",
      "Elizabeth  16  5.6  76  \n",
      "Mary       18  5.5  66  \n",
      "Susan      17  6.1  87  \n",
      "Waje       20  6.0  95  \n",
      "Taibat     19  5.7  50  \n",
      "Lilian     17  5.5  49  \n"
     ]
    }
   ],
   "source": [
    "# Define the data for the table\n",
    "data = [\n",
    "    ['Samantha', 17, 5.5, 80],\n",
    "    ['Jada', 16, 6.0,     85],\n",
    "    ['Jane', 17, 5.4,     70],\n",
    "    ['Claire', 18, 5.9,   60],\n",
    "    ['Elizabeth', 16, 5.6,76],\n",
    "    ['Mary', 18, 5.5,     66],\n",
    "    ['Susan', 17, 6.1,    87],\n",
    "    ['Waje', 20, 6.0,     95],\n",
    "    ['Taibat', 19, 5.7,   50],\n",
    "    ['Lilian', 17, 5.5,   49],\n",
    "]\n",
    "\n",
    "# Define the table heading\n",
    "heading = ['Name', 'Age', 'Height', 'scores']\n",
    "\n",
    "# Calculate the maximum width of each column\n",
    "column_widths = [max(len(str(row[i])) for row in data) for i in range(len(data[0]))]\n",
    "\n",
    "# Print the table heading\n",
    "for i in range(len(heading)):\n",
    "    print(f\"{heading[i]:<{column_widths[i]}}\", end='  ')\n",
    "print()\n",
    "\n",
    "# Print the table data\n",
    "for row in data:\n",
    "    for i in range(len(row)):\n",
    "        print(f\"{row[i]:<{column_widths[i]}}\", end='  ')\n",
    "    print()\n"
   ]
  },
  {
   "cell_type": "code",
   "execution_count": 2,
   "id": "b549452e",
   "metadata": {},
   "outputs": [
    {
     "name": "stdout",
     "output_type": "stream",
     "text": [
      "Enter name of city 1:Sharwama\n",
      "Enter name of city 2:lamar\n",
      "The name of city 1 after swapping is lamar\n",
      "The name of city 2 after swapping is Sharwama\n"
     ]
    }
   ],
   "source": [
    "#practice 1\n",
    "\n",
    "#Python to swap two cities\n",
    "\n",
    "#To take two imputs from the user\n",
    "city_1 = input('Enter name of city 1:')\n",
    "city_2 = input('Enter name of city 2:')\n",
    "\n",
    "#create a temporary variale and swap the cities\n",
    "temp = city_1\n",
    "city_1 = city_2\n",
    "city_2 = temp\n",
    "\n",
    "print(f\"The name of city 1 after swapping is {city_1}\")\n",
    "print(f\"The name of city 2 after swapping is {city_2}\")"
   ]
  },
  {
   "cell_type": "code",
   "execution_count": 3,
   "id": "b16c5f51",
   "metadata": {},
   "outputs": [
    {
     "name": "stdout",
     "output_type": "stream",
     "text": [
      "Welcome to the COUPE DE ESCRIVA 2023: FOOTBALL PICKS \n",
      "\n",
      "Madiba:  Chubby Obiora-Okafo\n",
      "Blue-Jays:  Christopher Uweh\n",
      "Cirok:  Alexander\n",
      "TSG Walkers:  Ikechukwu\n",
      "\n",
      "\n",
      "Madiba:  Chubby Obiora-Okafo\n",
      "Blue-Jays:  Oladimeji Abaniwondea/Jeffery Awagu\n",
      "Cirok:  Timileyin Pearse/Izuako Jeremy\n",
      "TSG Walkers:  Ayomide Ojituku\n"
     ]
    }
   ],
   "source": [
    "print(\"Welcome to the COUPE DE ESCRIVA 2023: FOOTBALL PICKS \\n\")\n",
    "\n",
    "captain = {'Madiba: ': 'Chubby Obiora-Okafo', 'Blue-Jays: ': 'Christopher Uweh',\n",
    "           'Cirok: ': 'Alexander', 'TSG Walkers: ': 'Ikechukwu'}\n",
    "goalkeepers = {'Madiba: ': 'Chubby Obiora-Okafo',\n",
    "               'Blue-Jays: ': 'Oladimeji Abaniwondea/Jeffery Awagu',\n",
    "               'Cirok: ': 'Timileyin Pearse/Izuako Jeremy',\n",
    "               'TSG Walkers: ': 'Ayomide Ojituku'}\n",
    "\n",
    "for pick in captain:\n",
    "    print(pick, captain[pick])\n",
    "print(\"\\n\")\n",
    "\n",
    "for pick in goalkeepers:\n",
    "    print(pick, goalkeepers[pick])"
   ]
  },
  {
   "cell_type": "code",
   "execution_count": null,
   "id": "d84cbe02",
   "metadata": {},
   "outputs": [],
   "source": []
  }
 ],
 "metadata": {
  "kernelspec": {
   "display_name": "Python 3 (ipykernel)",
   "language": "python",
   "name": "python3"
  },
  "language_info": {
   "codemirror_mode": {
    "name": "ipython",
    "version": 3
   },
   "file_extension": ".py",
   "mimetype": "text/x-python",
   "name": "python",
   "nbconvert_exporter": "python",
   "pygments_lexer": "ipython3",
   "version": "3.10.9"
  }
 },
 "nbformat": 4,
 "nbformat_minor": 5
}
