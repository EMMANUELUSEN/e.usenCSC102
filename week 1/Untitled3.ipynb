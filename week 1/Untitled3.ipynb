{
 "cells": [
  {
   "cell_type": "code",
   "execution_count": null,
   "id": "3c468eba",
   "metadata": {},
   "outputs": [],
   "source": []
  },
  {
   "cell_type": "code",
   "execution_count": 9,
   "id": "84fa54b7",
   "metadata": {},
   "outputs": [
    {
     "name": "stdout",
     "output_type": "stream",
     "text": [
      "Input principal: 2\n",
      "Input rate: 3\n",
      "input time: 4\n",
      "8.24\n"
     ]
    }
   ],
   "source": [
    "P = float(input(\"Input principal: \"))\n",
    "R = float(input(\"Input rate: \"))\n",
    "T = float(input(\"input time: \"))\n",
    "A = float(P*(1+(R/100))*T)\n",
    "print(A)"
   ]
  },
  {
   "cell_type": "code",
   "execution_count": null,
   "id": "37fadd11",
   "metadata": {},
   "outputs": [],
   "source": [
    "P = float(input(\"Input principal: \"))\n",
    "R = float(input(\"Input rate: \"))\n",
    "n = float(input(\"Input number: \"))\n",
    "t = float(input(\"Input time: \"))\n",
    "A = (P)"
   ]
  }
 ],
 "metadata": {
  "kernelspec": {
   "display_name": "Python 3 (ipykernel)",
   "language": "python",
   "name": "python3"
  },
  "language_info": {
   "codemirror_mode": {
    "name": "ipython",
    "version": 3
   },
   "file_extension": ".py",
   "mimetype": "text/x-python",
   "name": "python",
   "nbconvert_exporter": "python",
   "pygments_lexer": "ipython3",
   "version": "3.10.9"
  }
 },
 "nbformat": 4,
 "nbformat_minor": 5
}
