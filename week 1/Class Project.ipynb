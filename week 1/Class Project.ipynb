{
 "cells": [
  {
   "cell_type": "code",
   "execution_count": null,
   "id": "c7d61af7",
   "metadata": {},
   "outputs": [],
   "source": []
  },
  {
   "cell_type": "code",
   "execution_count": 9,
   "id": "60e1cbab",
   "metadata": {},
   "outputs": [
    {
     "name": "stdout",
     "output_type": "stream",
     "text": [
      "Input principal: 2\n",
      "Input rate: 3\n",
      "input time: 4\n",
      "8.24\n"
     ]
    }
   ],
   "source": [
    "P = float(input(\"Input principal: \"))\n",
    "R = float(input(\"Input rate: \"))\n",
    "T = float(input(\"input time: \"))\n",
    "A = float(P*(1+(R/100))*T)\n",
    "print(A)"
   ]
  },
  {
   "cell_type": "code",
   "execution_count": 10,
   "id": "be31f904",
   "metadata": {},
   "outputs": [
    {
     "name": "stdout",
     "output_type": "stream",
     "text": [
      "Input principal: 2\n",
      "Input rate: 3\n",
      "Input number: 4\n",
      "Input time: 5\n",
      "2.006342423877868\n"
     ]
    }
   ],
   "source": [
    "P = float(input(\"Input principal: \"))\n",
    "R = float(input(\"Input rate: \"))\n",
    "n = float(input(\"Input number: \"))\n",
    "t = float(input(\"Input time: \"))\n",
    "A = (P*(1+(R/n)**(n*t)))\n",
    "print(A)"
   ]
  },
  {
   "cell_type": "code",
   "execution_count": 12,
   "id": "c69a5b25",
   "metadata": {},
   "outputs": [
    {
     "name": "stdout",
     "output_type": "stream",
     "text": [
      "Input PMT: 2\n",
      "Input rate: 3\n",
      "Input number: 2\n",
      "Input time: 3\n",
      "15.1875\n"
     ]
    }
   ],
   "source": [
    "PMT = float(input(\"Input PMT: \"))\n",
    "R   = float(input(\"Input rate: \"))\n",
    "n   = float(input(\"Input number: \"))\n",
    "t   = float(input(\"Input time: \"))\n",
    "A   = PMT*(((1+(R/n)**(n*t))-1))/(R/n)\n",
    "print(A)"
   ]
  },
  {
   "cell_type": "code",
   "execution_count": null,
   "id": "b0f79d8b",
   "metadata": {},
   "outputs": [],
   "source": []
  }
 ],
 "metadata": {
  "kernelspec": {
   "display_name": "Python 3 (ipykernel)",
   "language": "python",
   "name": "python3"
  },
  "language_info": {
   "codemirror_mode": {
    "name": "ipython",
    "version": 3
   },
   "file_extension": ".py",
   "mimetype": "text/x-python",
   "name": "python",
   "nbconvert_exporter": "python",
   "pygments_lexer": "ipython3",
   "version": "3.10.9"
  }
 },
 "nbformat": 4,
 "nbformat_minor": 5
}
